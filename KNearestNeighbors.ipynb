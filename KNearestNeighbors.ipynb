{
  "nbformat": 4,
  "nbformat_minor": 0,
  "metadata": {
    "colab": {
      "provenance": [],
      "authorship_tag": "ABX9TyMtel2cOyASAPc7X5o4SJ9/",
      "include_colab_link": true
    },
    "kernelspec": {
      "name": "python3",
      "display_name": "Python 3"
    },
    "language_info": {
      "name": "python"
    }
  },
  "cells": [
    {
      "cell_type": "markdown",
      "metadata": {
        "id": "view-in-github",
        "colab_type": "text"
      },
      "source": [
        "<a href=\"https://colab.research.google.com/github/Bmarchese/implementing-KNN/blob/main/KNearestNeighbors.ipynb\" target=\"_parent\"><img src=\"https://colab.research.google.com/assets/colab-badge.svg\" alt=\"Open In Colab\"/></a>"
      ]
    },
    {
      "cell_type": "code",
      "execution_count": 22,
      "metadata": {
        "id": "uso7weg17YD2"
      },
      "outputs": [],
      "source": [
        "import numpy as np\n",
        "import pandas as pd\n",
        "from sklearn.datasets import load_iris\n",
        "from sklearn.model_selection import train_test_split\n",
        "from sklearn.preprocessing import MinMaxScaler\n",
        "from collections import Counter\n",
        "from random import seed\n",
        "import matplotlib.pyplot as plt\n",
        "import seaborn as sns\n",
        "from sklearn.metrics import confusion_matrix"
      ]
    },
    {
      "cell_type": "code",
      "source": [
        "class KNearestNeighbors:\n",
        "    def __euclidean_distance(self, p, q):\n",
        "       return np.sqrt(np.sum((p - q) ** 2))\n",
        "\n",
        "\n",
        "    def __find_nearest_neighbors(self, X_train, y_train, x_new, k):\n",
        "        distances = [(self.__euclidean_distance(x_new, x), y) for x, y in zip(X_train, y_train)]\n",
        "        sorted_distances = sorted(distances, key=lambda d: d[0])\n",
        "        return sorted_distances[:k]\n",
        "\n",
        "\n",
        "    def __majority_vote(self, nearest_neighbors):\n",
        "        votes = [label for _, label in nearest_neighbors]\n",
        "        vote_counts = Counter(votes)\n",
        "        return vote_counts.most_common(1)[0][0]\n",
        "\n",
        "\n",
        "    def predict(self, X_train, y_train, x_new, k):\n",
        "        nearest_neighbors = self.__find_nearest_neighbors(X_train, y_train, x_new, k)\n",
        "        return self.__majority_vote(nearest_neighbors)\n",
        "\n",
        "\n",
        "    def evaluate(self, X_train, y_train, X_test, y_test, k):\n",
        "        num_correct = 0\n",
        "        num_errors = 0\n",
        "        # Classification\n",
        "        for x_new, y_expected in zip(X_test, y_test):\n",
        "            predicted_label = self.predict(X_train, y_train, x_new, k)\n",
        "            if predicted_label == y_expected:\n",
        "                num_correct += 1\n",
        "            else:\n",
        "                num_errors += 1\n",
        "        # Accuracy\n",
        "        total_samples = len(X_test)\n",
        "        accuracy = (num_correct / total_samples) * 100\n",
        "        # Imprimir estatísticas\n",
        "        print(\"Correct:\", num_correct)\n",
        "        print(\"Errors:\", num_errors)\n",
        "        print(\"Accuracy:\", accuracy, \"%\")\n",
        "\n",
        "        return num_correct, num_errors, accuracy\n",
        "\n",
        "    def compute_confusion_matrix(self, X_train, y_train, X_test, y_test, k):\n",
        "        y_pred = [self.predict(X_train, y_train, x_new, k) for x_new in X_test]\n",
        "        cm = confusion_matrix(y_test, y_pred)\n",
        "        self.confusion_matrix_ = cm  # Armazena a matriz de confusão em um atributo\n",
        "\n",
        "        plt.figure(figsize=(8, 6))\n",
        "        sns.heatmap(cm, annot=True, fmt='d', cmap='Blues', xticklabels=np.unique(y_train), yticklabels=np.unique(y_train))\n",
        "        plt.xlabel('Predicted Labels')\n",
        "        plt.ylabel('True Labels')\n",
        "        plt.title('Confusion Matrix')\n",
        "        plt.show()"
      ],
      "metadata": {
        "id": "1BDr6AU57lZt"
      },
      "execution_count": 23,
      "outputs": []
    },
    {
      "cell_type": "code",
      "source": [
        "iris_dataset = load_iris()"
      ],
      "metadata": {
        "id": "U-ie4S4siQqB"
      },
      "execution_count": 24,
      "outputs": []
    },
    {
      "cell_type": "code",
      "source": [
        "data = iris_dataset['data']\n",
        "target = iris_dataset['target']\n",
        "X_train, X_test, y_train, y_test = train_test_split(data, target, test_size=0.2, random_state=42)"
      ],
      "metadata": {
        "id": "r6sdinnsjfdm"
      },
      "execution_count": 25,
      "outputs": []
    },
    {
      "cell_type": "code",
      "source": [
        "knn = KNearestNeighbors()\n",
        "knn.evaluate(X_train, y_train, X_test, y_test, 30)"
      ],
      "metadata": {
        "colab": {
          "base_uri": "https://localhost:8080/"
        },
        "id": "yZxw9bHCkwDM",
        "outputId": "f658c653-50fb-4568-ea8c-1723979d3541"
      },
      "execution_count": 26,
      "outputs": [
        {
          "output_type": "stream",
          "name": "stdout",
          "text": [
            "Correct: 30\n",
            "Errors: 0\n",
            "Accuracy: 100.0 %\n"
          ]
        },
        {
          "output_type": "execute_result",
          "data": {
            "text/plain": [
              "(30, 0, 100.0)"
            ]
          },
          "metadata": {},
          "execution_count": 26
        }
      ]
    },
    {
      "cell_type": "code",
      "source": [
        "knn.compute_confusion_matrix(X_train, y_train, X_test, y_test, 1)"
      ],
      "metadata": {
        "colab": {
          "base_uri": "https://localhost:8080/",
          "height": 564
        },
        "id": "7QgDP1aPCg0A",
        "outputId": "eeb87a85-a8de-4b79-8cf1-b79763198f7a"
      },
      "execution_count": 27,
      "outputs": [
        {
          "output_type": "display_data",
          "data": {
            "text/plain": [
              "<Figure size 800x600 with 2 Axes>"
            ],
            "image/png": "[encoded data removed]"
          },
          "metadata": {}
        }
      ]
    }
  ]
}